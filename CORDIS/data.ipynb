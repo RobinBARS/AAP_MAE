{
 "cells": [
  {
   "cell_type": "code",
   "execution_count": null,
   "id": "a106548c",
   "metadata": {},
   "outputs": [
    {
     "name": "stdout",
     "output_type": "stream",
     "text": [
      "The autoreload extension is already loaded. To reload it, use:\n",
      "  %reload_ext autoreload\n"
     ]
    }
   ],
   "source": [
    "%load_ext autoreload\n",
    "%autoreload 2\n",
    "\n",
    "import pandas as pd\n",
    "tqdm.pandas()\n",
    "import xml.etree.ElementTree as ET\n",
    "from tqdm import tqdm\n",
    "import re\n",
    "\n",
    "import matplotlib.pyplot as plt\n",
    "import matplotlib.colors as colors\n",
    "import matplotlib.cm as cm\n",
    "\n",
    "from sentence_transformers import SentenceTransformer, util\n",
    "import torch\n",
    "import seaborn as sns\n",
    "\n",
    "import numpy as np\n",
    "\n",
    "import utils as u\n",
    "import os\n",
    "\n",
    "plt.rcParams.update({\n",
    "        \"font.family\": \"serif\",\n",
    "        \"font.serif\": [\"Times New Roman\"],\n",
    "        \"text.usetex\": True  \n",
    "    })\n"
   ]
  },
  {
   "cell_type": "code",
   "execution_count": 9,
   "id": "959db0ca",
   "metadata": {},
   "outputs": [],
   "source": [
    "root_path = \"./CSV\""
   ]
  },
  {
   "cell_type": "code",
   "execution_count": 10,
   "id": "25ac5a22",
   "metadata": {},
   "outputs": [],
   "source": [
    "df = pd.read_csv(os.path.join(root_path,\"FP_v3.csv\"), low_memory = False)"
   ]
  },
  {
   "cell_type": "code",
   "execution_count": 15,
   "id": "676708be",
   "metadata": {},
   "outputs": [
    {
     "name": "stderr",
     "output_type": "stream",
     "text": [
      "100%|██████████| 119464/119464 [05:14<00:00, 379.46it/s]\n"
     ]
    }
   ],
   "source": [
    "# climate_keywords = [\n",
    "#     \"climate\", \"warming\", \"carbon\", \"co2\", \"ghg\", \"greenhouse\", \"emission\", \"mitigation\", \"adaptation\",\n",
    "#     \"resilien\", \"biodivers\", \"ecosystem\", \"sustain\", \"sustainable\", \"renewable\", \"solar\", \"wind\",\n",
    "#     \"hydro\", \"geothermal\", \"biomass\", \"deforest\", \"afforest\", \"reforest\", \"pollut\", \"ozone\", \"methane\",\n",
    "#     \"nitrous\", \"footprint\", \"neutral\", \"decarbon\", \"transition\", \"netzero\", \"energy\", \"efficien\",\n",
    "#     \"lowcarbon\", \"zerocarbon\", \"carbonfree\", \"emissfree\", \"degreen\", \"temperature\", \"sea level\", \"ice melt\",\n",
    "#     \"glacier\", \"permafrost\", \"drought\", \"flood\", \"storm\", \"cyclone\", \"hurricane\", \"wildfire\", \"climateproof\",\n",
    "#     \"clean energy\", \"clean tech\", \"carbon market\", \"cap and trade\", \"carbon pricing\", \"nature-based\", \"climate finance\",\n",
    "#     \"green finance\", \"climate justice\", \"greenhouse gas\", \"environmental\", \"reduc\", \"carbon sink\", \"recycle\",\n",
    "#     \"waste\", \"heatwave\", \"extreme weather\", \"urban heat\", \"ecofriendly\", \"climatic\", \"resilience\", \"weather pattern\",\n",
    "#     \"sensitivity\", \"vulnerab\", \"environment\", \"ecological\", \"marine\", \"ocean\", \"acidification\", \"desertification\",\n",
    "#     \"water stress\", \"crop yield\", \"agricultur\", \"food secur\", \"livelihood\", \"sustainability\", \"carbon offset\",\n",
    "#     \"carbon tax\", \"emission trading\", \"GHG inventory\", \"environmental impact\", \"life cycle\", \"carbon intensity\",\n",
    "#     \"energy transition\", \"emissions reduction\", \"adapt\", \"planet\", \"nature\", \"green energy\", \"biodiversity\"\n",
    "# ]\n",
    "\n",
    "climate_keywords = [\n",
    "    \"climate\", \"climatic\", \"warming\", \"global warming\", \"climate change\", \"greenhouse\", \"greenhouse gas\", \"ghg\",\n",
    "    \"co2\", \"carbon\", \"carbon dioxide\", \"methane\", \"nitrous oxide\", \"fossil fuel\", \"emission\", \"emissions\",\n",
    "    \"emissions reduction\", \"carbon emission\", \"low carbon\", \"zero carbon\", \"carbon neutral\", \"carbon free\",\n",
    "    \"carbon intensity\", \"carbon footprint\", \"carbon offset\", \"carbon sink\", \"carbon pricing\", \"carbon tax\",\n",
    "    \"cap and trade\", \"net zero\", \"decarbon\", \"decarbonize\", \"mitigation\", \"adaptation\", \"climate mitigation\",\n",
    "    \"climate adaptation\", \"resilience\", \"resilient\", \"vulnerability\", \"exposure\", \"sensitivity\", \"impacts\",\n",
    "    \"climate risk\", \"climate scenario\", \"climate model\", \"sea level\", \"sea level rise\", \"glacier\", \"ice melt\",\n",
    "    \"permafrost\", \"drought\", \"flood\", \"extreme weather\", \"heatwave\", \"storm\", \"cyclone\", \"hurricane\", \"wildfire\",\n",
    "    \"desertification\", \"ocean warming\", \"ocean acidification\", \"precipitation\", \"rainfall variability\",\n",
    "    \"temperature rise\", \"rising temperatures\", \"weather pattern\", \"climate event\", \"biodiversity loss\",\n",
    "    \"ecosystem collapse\", \"climate migration\", \"climate-induced\", \"disaster risk\", \"renewable energy\",\n",
    "    \"solar energy\", \"wind energy\", \"hydropower\", \"energy transition\", \"energy efficiency\", \"climate finance\",\n",
    "    \"green finance\", \"climate justice\", \"nature-based\", \"nature-based solutions\", \"sustainable agriculture\",\n",
    "    \"climate-smart\", \"greenhouse effect\", \"global temperature\", \"climate neutrality\", \"climate action\",\n",
    "    \"international climate\", \"UNFCCC\", \"IPCC\", \"paris agreement\", \"1.5 degrees\", \"climate emergency\", \"climate resilience\",\n",
    "    \"climate vulnerability\", \"GHG inventory\", \"climate policy\", \"climate strategy\", \"climate target\"\n",
    "]\n",
    "\n",
    "\n",
    "def preprocess(text):\n",
    "    if not isinstance(text, str):\n",
    "        return \"\"\n",
    "    text = text.lower()\n",
    "    text = re.sub(r\"[^\\w\\s]\", \" \", text)\n",
    "    return text\n",
    "\n",
    "def contains_climate_keywords(text, keywords):\n",
    "    text = preprocess(text)\n",
    "    for word in text.split():\n",
    "        for kw in keywords:\n",
    "            if word.startswith(kw):\n",
    "                return True\n",
    "    return False\n",
    "\n",
    "df[\"climate_word_realted\"] = df[\"objective\"].progress_apply(\n",
    "    lambda x: contains_climate_keywords(x, climate_keywords)\n",
    ")"
   ]
  },
  {
   "cell_type": "code",
   "execution_count": 16,
   "id": "97a7e906",
   "metadata": {},
   "outputs": [
    {
     "name": "stdout",
     "output_type": "stream",
     "text": [
      "climate_word_realted\n",
      "False    89196\n",
      "True     30268\n",
      "Name: count, dtype: int64\n"
     ]
    }
   ],
   "source": [
    "print(df[\"climate_word_realted\"].value_counts())"
   ]
  },
  {
   "cell_type": "code",
   "execution_count": 20,
   "id": "02d1be4d",
   "metadata": {},
   "outputs": [
    {
     "name": "stdout",
     "output_type": "stream",
     "text": [
      "DEVELOPMENT OF APPROPRIATE DIGITAL IMAGE PROCESSING SOFTARE FOR ANALYSIS OF IMAGES. DEVELOPMENT OF SPECIALIZED SOFTWARE FOR THERMAL IMAGES. DURING SMALL SCALE TESTS IN WHICH TWO-PHASE JETS OR CLOUDS ARE RELEASED FLOW VISUALISATIONS WILL BE PERFORMED. THE VKI WILL GIVE ADVICES TO WHICH TYPE OF VISUALISATIONS SHOULD BE PERFORMED. EXAMPLES OF METHODS ARE : BULK FLOW ILLUMINATION, LONGITUDINAL AND TRANSVERSAL LASER SHEETS, HIGH SPEED VIDEO RECORDING, PHOTOGRAPHY, MOVIE. THE MOST SUITABLE METHODS WILL BE SELECTED AND COMPUTER PROGRAMMES WILL BE PREPARED AT VKI IN ORDER TO EXTRACT INFORMATION FROM THESE VISUAL RECORDS. THE DATA TO BE OBTAINED ARE OF DIFFERENT NATURE : GEOMETRICAL CHARACTERISTICS SUCH AS CROSS AREA OR LONGITUDINAL AREA OF THE CLOUD WILL BE QUANTIFIED. THE CONCENTRATION OF DROPLET WITHIN THE JET OR CLOUD WILL BE EVALUATED. THESE TASKS REQUIRE SPECIAL SOFTWARE THAT WILL ALLOW A CORRECT GEOMETRICAL QUANTIFICATION. THIS WILL INCLUDE METHODS FOR CORRECTING FOR PERSPECTIVE AND FOR UNEVEN ILLUMINATION. FINALLY, ATTEMPTS WILL BE MADE AT MEASURING THE SIZE OF DROPLETS. THE SUCCESS OF THIS METHOD WILL DEPEND UPON THE NATURE OF THE VISUAL RECORDS WHICH WILL BE AVAILABLE. BECAUSE OF THE LIMITATIONS IN THE RESOLUTION OF THE DIGITAL IMAGE PROCESSING SYSTEM USED, AN OPTICAL MAGNIFICATION OF THE VISUAL RECORDS WILL BE MADE AND THIS MAGNIFICATION WILL BE LIMITED BY THE NATURE OF THE ORIGINAL IMAGE. IT IS ALSO ANTICIPATED THAT VISUAL RECORDS ARE MADE OF THE LARGE SCALE TESTS. THE VAN KARMAN INSTITUTE WILL INVESTIGATE THE POSSIBILITIES TO EXTRACT INFORMATION FROM THESE TRIALS. PRIOR TO THE TESTS, METHODS USED FOR THESE VISUALISATIONS WILL BE DISCUSSED. FINALLY IN THE TESTS P6, P10 AND P11, AN INFRARED CAMERA SHOULD BE USED TO OBTAIN THERMAL IMAGES OF THE TWO PHASE CLOUD OR JET. AN ANALYSIS PERFORMED WITH THE DIGITAL IMAGE PROCESSING SHOULD ALLOW FOR CORRECTION OF EMISSIVITY AND EMISSION ANGLE OF THE RADIATION. IT IS ANTICIPATED THAT INFORMATION ON THE HEAT TRANSFER WITHIN THE TWO-PHASE FLOW SHOULD BE DETERMINED. \n",
      "TO DEVELOP AN ECONOMIC MODEL OF A GEOTHERMAL HOT DRY ROCK DEVELOPMENT. A cost model of hot dry rock (HDR) geothermal systems is being developed under contract to the United Kingdom Department of Energy and the Commission of the European Communities. During the first phase of this study, the basic structure of the model has been defined and modelling approaches which are appropriate to the level of knowledge of different areas of this system have been identified. The development of the cost model is now in progress and the main features of the modelling approach have been ascertained. An interim model has also been brought together in order to obtain some indications of sensitivities and so assist with the model process.Although the results are not definite at this stage, they do indicate important features of the technoeconomic aspects of the system. Thus the size and the spatial arrangement of the reservoir emerge as important issues, together with thermal gradient and depth.The ultimate objective of this study is to develop a full engineering cost model of electricity producing HDR systems which includes all surface and subsurface systems and components.Once developed the aims of the model are to:estimate capital and operating costs of HDR systems and their development over time;investigate the sensitivity of unit electricity costs to changes in parameters defining the HDR reservoir and also those defining the size and design of the power station;assist in the assessment of European HDR resources, as a function of cost and location.The cost of creating a reservoir, by drilling and stimulation, is likely to form a significant fraction of the total cost of constructing any proposed hot dry rock (HDR) geothermal energy system. The cost of these operations can be estimated using a cost model that has been developed to the assist the management of HDR geothermal energy research and development programmes.The model, which is formulated as a spreadsheet programme written on SMART software for an Olivetti M24 personal computer, can either be run as an integrated package or as individual components. Although preliminary versions of the cost model have been completed, development will continue.The final version of the drilling and stimulation cost model will be able to account for the affect of varying depth, geothermal gradient, geology (in terms of subsequent rates of penetration and bit life), borehole breakout, thickness of sedimentary cover, well design (including configuration angle of deviation and casing programme) and reservoir characteristics (such as volume, shape and number of stimulated zones).Other factors that will be taken into consideration include the type of logging and coring programmes selected and the general drilling market conditions which affect the cost of drilling supplies and services.DESCRIPTION: THIS STUDY BUILDS ON PREVIOUS WORK BY THE CONTRACTOR IN MODELLING THE VARIOUS ASPECTS OF AN HDR OPERATION, AND WILL BE DESIGNED TO PROVIDE RESULTS APPLICABLE IN ALL THE EUROPEAN MEMBER STATES. IT WILL ALLOW ESTIMATION OF THE COSTS OF ENERGY DERIVED FROM AN HDR RESERVOIR TOGETHER WITH AN ANALYSIS OF THE SENSITIVITY OF THOSE COSTS TO VARIOUS ASPECTS OF RESERVOIR CREATION, DEVELOPMENT AND OPERATION. THE MODEL WILL RUN ON A PC-COMPATIBLE MICROCOMPUTER. \n",
      "The newly-developed code, CYCLOP, allows efficient calculation for optimisation studies. The CYCLOP project has brought together many areas of theoretical, experimental and numerical study. The main achievements highlighted by project partners are: - New modules for turbulence, agglomeration of particles and twophase flow treatment - New algorithms adapted to collocated approach and curvilinear grids - Experimental data on cyclone flow-field (by LDV) and performances in cold and hot conditions - and also some results on fluidized bed operating characteristics - A software package allowing calculation of cyclones and similar separators in 2D and 3D, with various graphic facilities will validated in 2D on different experimental data - Better overall knowledge of physics in cyclones.\n",
      "AN IMPORTANT TASK IN THE DECOMMISSIONNING OF NUCLEAR INSTALLATIONS    IS THE PROOF OF THE VERY LOW RADIOACTIVITY LEVELS, ALLOWING FOR FREE RELEASE    OF THE GENERATED WASTE. THIS PROOF INVOLVESLONG MEASURING TIMES ON A GREAT      NUMBER  OF REPRESENTATIVE SAMPLES OUT OF IMPORTANT MASSES OF METAL STRUCTURES   AND CONCRETE, AND CONSIDERABLE RADIATION EXPOSURE OF THE MEASURING STAFF.       THE MAIN OBJECTIVE OF THE PRESENT RESEARCH IS THE DEVELOPMENT, CONSTRUCTION AND LARGE-SCALE TESTING OF A PROTOTYPE FOR AN AUTOMATIC MEASURING SYSTEM, APPROPRIATE TO TREAT IMPORTANT MASSES OF WASTE, WITH LOW-LEVEL ACTIVITIES AND DIFFERENT  NUCLIDE COMPOSITIONS AND SHAPES. IT IS EXPECTED TO MINIMISE HUMAN ERRORS BY AUTOMATIC OPERATION. THE MEASURING SYSTEM WILL BE DESIGNED AS A MOBILE UNIT, WITH A MODULAR STRUCTURE ALLOWING FOR A GENERAL PURPOSE APPLICATION TO LWR TYPICAL WASTE ARISING, AT DIFFERENT DECOMMISSIONING SITES. THE PRACTICAL TESTING WILL BE DONE A TOTAL MASS OF 1000 MG IN THE FRAMEWORK OF THE KKN DECOMMISSIONING. THE STUDY WILL BE COMPLETED BY A CONCLUSIVE ASSESSMENT OF THE MERITS OF THE DEVELOPED MEASURING SYSTEM FOR LARGE-SCALE OPERATION. The dismantling of nuclear facilities requires proof that the radioactivity levels of materials to be released from restricted areas remain below low limiting values. Up till now, decisive measurements have been almost impossible on parts and material with complex geometries. In order to keep measurement costs low, a device has been developed which uses a fast automatic procedure to examine large amounts of dismantled and potentially contaminating components. The device measures the gross gamma-radiation which has a higher penetrating capacity into the material than beta radiation. The measuring tunnel is 1.2 m broad and 1.2 m high. Parts to be measured can be up to 4 m long and weigh 1 tonne. Analysis of measurements has shown that the specified minimal detectable activity level of 1000 Bq cobalt-60 can be achieved, even with steel shielding of 2 cm thickness.B.1.CONCEPTUAL STUDIES FOR THE DEFINITION OF THE REQUIREMENTS FOR A MEASURING SYSTEM,INCLUDING ASSESSMENT OF EXISTING LOW-LEVEL ACTIVITY MEASURING TECHNIQUES, DEFINITION OF THE TYPES OF WASTE TO BE TREATED, AND HEALTH PHYSICS PROTECTION CONSIDERATIONS. B.2. PREPARATION OF A DESIGN OF THE COMPLETE MEASURING SYSTEM,INCLUDING DETECTORS,CONTROL AND TRANSPORT SYSTEM, GENERAL PURPOSE SOFTWARE FOR MEASURING DATA PROCESSING, FOLLOWED BY A CALL FOR TENDERS AND THE CHOICE OF MANUFACTURES. B.3. PREPARATION OF A LICENSING DOSSIER FOR EXPERIMENTAL OPERATION OF THE MEASURING SYSTEM PROGRAMME. IN THE FRAMEWORK OF THE DECOMMISSIONING OF KKN. B.4. EXECUTION OF A LARGE-SCALE TEST PROGRAMME. B.5.CONCLUSIVE ASSESSMENT OF THE APPROPRIATENESS OF THE DEVELOPED MEASURING SYSTEM, CONSIDERING TECHNICAL AND ECONOMIC ASPECTS. \n",
      "Work has been directed towards the provision of key components of real time computerised support systems, embodied in software packages to be made generally available for use in European Community countries. These software packages include numerical models suitable for the simulation of atmospheric transport, dispersal and deposition of a release of radioactive material over local (out to a few tens of kilometres at most), mesoscale (out to 100 to 200 kilometres) and long range distances (over the whole of Europe). To aid in accidents where there are large uncertainties about the source term, packages have been developed addressing the deduction of estimates of the quantities of radionuclides released by combining measurements and model simulations and optimising the agreement between them. Finally, as a tool to aid in the assessment of doses and the efficacy of possible countermeasures, a special package has been produced for dose assessment taking into account different exposure pathways.\n"
     ]
    }
   ],
   "source": [
    "for i in range(5):\n",
    "    print(df[df[\"climate_word_realted\"]==True].iloc[i][\"objective\"])"
   ]
  }
 ],
 "metadata": {
  "kernelspec": {
   "display_name": "rain",
   "language": "python",
   "name": "python3"
  },
  "language_info": {
   "codemirror_mode": {
    "name": "ipython",
    "version": 3
   },
   "file_extension": ".py",
   "mimetype": "text/x-python",
   "name": "python",
   "nbconvert_exporter": "python",
   "pygments_lexer": "ipython3",
   "version": "3.12.3"
  }
 },
 "nbformat": 4,
 "nbformat_minor": 5
}
