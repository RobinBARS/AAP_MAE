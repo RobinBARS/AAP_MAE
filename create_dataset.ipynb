{
 "cells": [
  {
   "cell_type": "code",
   "execution_count": 2,
   "id": "0fdb8dfb",
   "metadata": {},
   "outputs": [],
   "source": [
    "from sentence_transformers import SentenceTransformer, util\n",
    "import pandas as pd\n",
    "import xml.etree.ElementTree as ET\n",
    "from tqdm import tqdm\n",
    "import matplotlib.pyplot as plt\n",
    "import os\n",
    "import numpy as np"
   ]
  },
  {
   "cell_type": "markdown",
   "id": "55dd423f",
   "metadata": {},
   "source": [
    "---\n",
    "# V1"
   ]
  },
  {
   "cell_type": "code",
   "execution_count": 5,
   "id": "6d457d16",
   "metadata": {},
   "outputs": [],
   "source": [
    "def extract_elements_to_dict(element):\n",
    "    data = {}\n",
    "    for child in element:\n",
    "        tag = child.tag\n",
    "        if (tag!=\"relations\" and tag in [\"id\",\"title\",\"teaser\",\"body\",\"keywords\",\"contentCreationDate\",\"language\"]):\n",
    "            text = child.text.strip() if child.text else ''\n",
    "            if len(child) > 0:\n",
    "                def get_all_text(el):\n",
    "                    texts = []\n",
    "                    if el.text and el.text.strip():\n",
    "                        texts.append(el.text.strip())\n",
    "                    for c in el:\n",
    "                        texts.append(get_all_text(c))\n",
    "                    if el.tail and el.tail.strip():\n",
    "                        texts.append(el.tail.strip())\n",
    "                    return ' '.join(texts)\n",
    "                \n",
    "                text = get_all_text(child).strip()\n",
    "\n",
    "            data[tag] = text\n",
    "    return data"
   ]
  },
  {
   "cell_type": "code",
   "execution_count": 6,
   "id": "3b87b127",
   "metadata": {},
   "outputs": [
    {
     "name": "stdout",
     "output_type": "stream",
     "text": [
      "Digital_Economy\n"
     ]
    },
    {
     "name": "stderr",
     "output_type": "stream",
     "text": [
      "100%|██████████| 4659/4659 [00:13<00:00, 347.22it/s] \n"
     ]
    },
    {
     "name": "stdout",
     "output_type": "stream",
     "text": [
      "Energy\n"
     ]
    },
    {
     "name": "stderr",
     "output_type": "stream",
     "text": [
      "100%|██████████| 3323/3323 [00:08<00:00, 394.04it/s] \n"
     ]
    },
    {
     "name": "stdout",
     "output_type": "stream",
     "text": [
      "Environment\n"
     ]
    },
    {
     "name": "stderr",
     "output_type": "stream",
     "text": [
      "100%|██████████| 5320/5320 [00:15<00:00, 345.77it/s]\n"
     ]
    },
    {
     "name": "stdout",
     "output_type": "stream",
     "text": [
      "Food_Agriculture\n"
     ]
    },
    {
     "name": "stderr",
     "output_type": "stream",
     "text": [
      "100%|██████████| 2816/2816 [00:07<00:00, 357.60it/s]\n"
     ]
    },
    {
     "name": "stdout",
     "output_type": "stream",
     "text": [
      "Fundammental\n"
     ]
    },
    {
     "name": "stderr",
     "output_type": "stream",
     "text": [
      "100%|██████████| 3389/3389 [00:07<00:00, 431.59it/s] \n"
     ]
    },
    {
     "name": "stdout",
     "output_type": "stream",
     "text": [
      "Health\n"
     ]
    },
    {
     "name": "stderr",
     "output_type": "stream",
     "text": [
      "100%|██████████| 6852/6852 [00:13<00:00, 513.52it/s] \n"
     ]
    },
    {
     "name": "stdout",
     "output_type": "stream",
     "text": [
      "Industrie\n"
     ]
    },
    {
     "name": "stderr",
     "output_type": "stream",
     "text": [
      "100%|██████████| 3693/3693 [00:10<00:00, 358.11it/s]\n"
     ]
    },
    {
     "name": "stdout",
     "output_type": "stream",
     "text": [
      "Society\n"
     ]
    },
    {
     "name": "stderr",
     "output_type": "stream",
     "text": [
      "100%|██████████| 5080/5080 [00:12<00:00, 397.80it/s] \n"
     ]
    },
    {
     "name": "stdout",
     "output_type": "stream",
     "text": [
      "Space\n"
     ]
    },
    {
     "name": "stderr",
     "output_type": "stream",
     "text": [
      "100%|██████████| 960/960 [00:02<00:00, 341.68it/s]\n"
     ]
    },
    {
     "name": "stdout",
     "output_type": "stream",
     "text": [
      "Transport\n"
     ]
    },
    {
     "name": "stderr",
     "output_type": "stream",
     "text": [
      "100%|██████████| 1900/1900 [00:05<00:00, 371.35it/s]"
     ]
    },
    {
     "name": "stdout",
     "output_type": "stream",
     "text": [
      "C:/Users/barsro/Downloads/Data_projets_EU/Transport\\xml.zip\n"
     ]
    },
    {
     "name": "stderr",
     "output_type": "stream",
     "text": [
      "\n"
     ]
    }
   ],
   "source": [
    "root_path = 'C:/Users/barsro/Downloads/Data_projets_EU/'\n",
    "dirs = [name for name in os.listdir(root_path) if os.path.isdir(os.path.join(root_path, name))]\n",
    "\n",
    "rows = []\n",
    "for dir in dirs :\n",
    "    print(dir)\n",
    "    folder_path = os.path.join(root_path,dir)\n",
    "    files = [f for f in os.listdir(folder_path) if os.path.isfile(os.path.join(folder_path, f))]\n",
    "    for file in tqdm(files):\n",
    "        try :\n",
    "            tree = ET.parse(os.path.join(folder_path,file))\n",
    "            root = tree.getroot()\n",
    "            result = extract_elements_to_dict(root)\n",
    "            result[\"Domain\"]=dir\n",
    "            rows.append(result)\n",
    "        except :\n",
    "            print(os.path.join(folder_path,file))"
   ]
  },
  {
   "cell_type": "code",
   "execution_count": 7,
   "id": "fb0cc1a3",
   "metadata": {},
   "outputs": [
    {
     "data": {
      "text/html": [
       "<div>\n",
       "<style scoped>\n",
       "    .dataframe tbody tr th:only-of-type {\n",
       "        vertical-align: middle;\n",
       "    }\n",
       "\n",
       "    .dataframe tbody tr th {\n",
       "        vertical-align: top;\n",
       "    }\n",
       "\n",
       "    .dataframe thead th {\n",
       "        text-align: right;\n",
       "    }\n",
       "</style>\n",
       "<table border=\"1\" class=\"dataframe\">\n",
       "  <thead>\n",
       "    <tr style=\"text-align: right;\">\n",
       "      <th></th>\n",
       "      <th>language</th>\n",
       "      <th>id</th>\n",
       "      <th>title</th>\n",
       "      <th>teaser</th>\n",
       "      <th>body</th>\n",
       "      <th>keywords</th>\n",
       "      <th>contentCreationDate</th>\n",
       "      <th>Domain</th>\n",
       "      <th>year</th>\n",
       "    </tr>\n",
       "  </thead>\n",
       "  <tbody>\n",
       "    <tr>\n",
       "      <th>0</th>\n",
       "      <td>en</td>\n",
       "      <td>182009-smart-grid-redirects-computing-power-to...</td>\n",
       "      <td>Smart grid redirects computing power to heat h...</td>\n",
       "      <td>EU-funded researchers have developed a decentr...</td>\n",
       "      <td>The EU-funded project can benefit end users by...</td>\n",
       "      <td>EeHPC, high performance computing, HPC, Qarnot...</td>\n",
       "      <td>2016-05-05 15:53:11</td>\n",
       "      <td>Digital_Economy</td>\n",
       "      <td>2016</td>\n",
       "    </tr>\n",
       "    <tr>\n",
       "      <th>1</th>\n",
       "      <td>en</td>\n",
       "      <td>182988-spanish-sme-aims-for-top-spot-in-virtua...</td>\n",
       "      <td>Spanish SME aims for top spot in virtual fitti...</td>\n",
       "      <td>Online clothing retailers will soon be able to...</td>\n",
       "      <td>With eCommerce sales set to increase by 18.4 %...</td>\n",
       "      <td>Smart textiles, safety shoes, biometric sensors</td>\n",
       "      <td>2016-07-12 17:56:55</td>\n",
       "      <td>Digital_Economy</td>\n",
       "      <td>2016</td>\n",
       "    </tr>\n",
       "    <tr>\n",
       "      <th>2</th>\n",
       "      <td>en</td>\n",
       "      <td>188522-robotic-solutions-to-give-dementia-pati...</td>\n",
       "      <td>Robotic solutions to give dementia patients be...</td>\n",
       "      <td>The EU-funded MARIO project is developing a co...</td>\n",
       "      <td>In the absence of a cure, solutions such as MA...</td>\n",
       "      <td>MARIO, Kompaï-2 robot, dementia, DOMEO</td>\n",
       "      <td>2016-09-09 15:16:41</td>\n",
       "      <td>Digital_Economy</td>\n",
       "      <td>2016</td>\n",
       "    </tr>\n",
       "    <tr>\n",
       "      <th>3</th>\n",
       "      <td>en</td>\n",
       "      <td>188757-wisers-free-tools-will-help-large-and-s...</td>\n",
       "      <td>WISER’s free tools will help large and small e...</td>\n",
       "      <td>Companies and governments are bombarded by bil...</td>\n",
       "      <td>The vast majority of SMEs have to sacrifice li...</td>\n",
       "      <td>WISER, cyber security, threat, trojan horse, S...</td>\n",
       "      <td>2016-10-28 13:13:54</td>\n",
       "      <td>Digital_Economy</td>\n",
       "      <td>2016</td>\n",
       "    </tr>\n",
       "    <tr>\n",
       "      <th>4</th>\n",
       "      <td>en</td>\n",
       "      <td>190722-pcp-and-ppi-a-public-boost-to-societal-...</td>\n",
       "      <td>PCP and PPI: a public boost to societal challe...</td>\n",
       "      <td>Rising public needs and interests require not ...</td>\n",
       "      <td>In the EU, two mechanisms are increasingly use...</td>\n",
       "      <td>PCP, PPI, R&amp;D, innovation, intelligent transpo...</td>\n",
       "      <td>2016-12-09 16:28:14</td>\n",
       "      <td>Digital_Economy</td>\n",
       "      <td>2016</td>\n",
       "    </tr>\n",
       "  </tbody>\n",
       "</table>\n",
       "</div>"
      ],
      "text/plain": [
       "  language                                                 id  \\\n",
       "0       en  182009-smart-grid-redirects-computing-power-to...   \n",
       "1       en  182988-spanish-sme-aims-for-top-spot-in-virtua...   \n",
       "2       en  188522-robotic-solutions-to-give-dementia-pati...   \n",
       "3       en  188757-wisers-free-tools-will-help-large-and-s...   \n",
       "4       en  190722-pcp-and-ppi-a-public-boost-to-societal-...   \n",
       "\n",
       "                                               title  \\\n",
       "0  Smart grid redirects computing power to heat h...   \n",
       "1  Spanish SME aims for top spot in virtual fitti...   \n",
       "2  Robotic solutions to give dementia patients be...   \n",
       "3  WISER’s free tools will help large and small e...   \n",
       "4  PCP and PPI: a public boost to societal challe...   \n",
       "\n",
       "                                              teaser  \\\n",
       "0  EU-funded researchers have developed a decentr...   \n",
       "1  Online clothing retailers will soon be able to...   \n",
       "2  The EU-funded MARIO project is developing a co...   \n",
       "3  Companies and governments are bombarded by bil...   \n",
       "4  Rising public needs and interests require not ...   \n",
       "\n",
       "                                                body  \\\n",
       "0  The EU-funded project can benefit end users by...   \n",
       "1  With eCommerce sales set to increase by 18.4 %...   \n",
       "2  In the absence of a cure, solutions such as MA...   \n",
       "3  The vast majority of SMEs have to sacrifice li...   \n",
       "4  In the EU, two mechanisms are increasingly use...   \n",
       "\n",
       "                                            keywords  contentCreationDate  \\\n",
       "0  EeHPC, high performance computing, HPC, Qarnot...  2016-05-05 15:53:11   \n",
       "1    Smart textiles, safety shoes, biometric sensors  2016-07-12 17:56:55   \n",
       "2             MARIO, Kompaï-2 robot, dementia, DOMEO  2016-09-09 15:16:41   \n",
       "3  WISER, cyber security, threat, trojan horse, S...  2016-10-28 13:13:54   \n",
       "4  PCP, PPI, R&D, innovation, intelligent transpo...  2016-12-09 16:28:14   \n",
       "\n",
       "            Domain  year  \n",
       "0  Digital_Economy  2016  \n",
       "1  Digital_Economy  2016  \n",
       "2  Digital_Economy  2016  \n",
       "3  Digital_Economy  2016  \n",
       "4  Digital_Economy  2016  "
      ]
     },
     "execution_count": 7,
     "metadata": {},
     "output_type": "execute_result"
    }
   ],
   "source": [
    "df = pd.DataFrame(rows)\n",
    "df['year'] = pd.to_datetime(df['contentCreationDate']).dt.year\n",
    "df.head()"
   ]
  },
  {
   "cell_type": "code",
   "execution_count": 8,
   "id": "9bfa05d2",
   "metadata": {},
   "outputs": [],
   "source": [
    "df.to_csv('./cordis_v1.csv')"
   ]
  },
  {
   "cell_type": "markdown",
   "id": "d705bf92",
   "metadata": {},
   "source": [
    "---\n",
    "# V2 Semantics"
   ]
  },
  {
   "cell_type": "code",
   "execution_count": 4,
   "id": "c0382ced",
   "metadata": {},
   "outputs": [],
   "source": [
    "model = SentenceTransformer('paraphrase-MiniLM-L6-v2')  \n",
    "\n",
    "climate_keywords = [\n",
    "    \"climate change\", \"global warming\", \"greenhouse gas\", \"carbon emissions\", \"decarbonization\",\n",
    "    \"carbon footprint\", \"co2\", \"methane\", \"sea level rise\", \"glacier melt\", \"drought\", \"flood\",\n",
    "    \"storm\", \"heatwave\", \"resilience\", \"adaptation\", \"mitigation\", \"climate policy\", \"renewable energy\",\n",
    "    \"energy efficiency\", \"sustainable agriculture\", \"climate finance\", \"carbon neutral\", \"net zero\",\n",
    "    \"emissions reduction\", \"deforestation\", \"reforestation\", \"afforestation\", \"biodiversity loss\",\n",
    "    \"ecosystem collapse\", \"climate migration\", \"climate risk\", \"climate action\", \"nature-based solutions\",\n",
    "    \"climate scenario\", \"climate model\", \"extreme weather\", \"carbon pricing\", \"carbon tax\", \"GHG inventory\",\n",
    "    \"permafrost\", \"ocean acidification\", \"desertification\", \"weather variability\", \"climate adaptation\"\n",
    "]\n",
    "\n",
    "keyword_embeddings = model.encode(climate_keywords, convert_to_tensor=True)\n",
    "\n",
    "def compute_climate_score(text):\n",
    "    if not isinstance(text, str) or len(text.strip()) == 0:\n",
    "        return 0.0\n",
    "    text_embedding = model.encode(text, convert_to_tensor=True)\n",
    "    cosine_scores = util.cos_sim(text_embedding, keyword_embeddings)\n",
    "    return float(np.max(cosine_scores.numpy()))"
   ]
  },
  {
   "cell_type": "code",
   "execution_count": 5,
   "id": "6ded86fb",
   "metadata": {},
   "outputs": [
    {
     "name": "stdout",
     "output_type": "stream",
     "text": [
      "0.30510270595550537\n",
      "0.4423593282699585\n",
      "0.4547749161720276\n",
      "0.45463743805885315\n",
      "0.3841760754585266\n"
     ]
    }
   ],
   "source": [
    "list = [\"DEVELOPMENT OF APPROPRIATE DIGITAL IMAGE PROCESSING SOFTARE FOR ANALYSIS OF IMAGES. DEVELOPMENT OF SPECIALIZED SOFTWARE FOR THERMAL IMAGES. DURING SMALL SCALE TESTS IN WHICH TWO-PHASE JETS OR CLOUDS ARE RELEASED FLOW VISUALISATIONS WILL BE PERFORMED. THE VKI WILL GIVE ADVICES TO WHICH TYPE OF VISUALISATIONS SHOULD BE PERFORMED. EXAMPLES OF METHODS ARE : BULK FLOW ILLUMINATION, LONGITUDINAL AND TRANSVERSAL LASER SHEETS, HIGH SPEED VIDEO RECORDING, PHOTOGRAPHY, MOVIE. THE MOST SUITABLE METHODS WILL BE SELECTED AND COMPUTER PROGRAMMES WILL BE PREPARED AT VKI IN ORDER TO EXTRACT INFORMATION FROM THESE VISUAL RECORDS. THE DATA TO BE OBTAINED ARE OF DIFFERENT NATURE : GEOMETRICAL CHARACTERISTICS SUCH AS CROSS AREA OR LONGITUDINAL AREA OF THE CLOUD WILL BE QUANTIFIED. THE CONCENTRATION OF DROPLET WITHIN THE JET OR CLOUD WILL BE EVALUATED. THESE TASKS REQUIRE SPECIAL SOFTWARE THAT WILL ALLOW A CORRECT GEOMETRICAL QUANTIFICATION. THIS WILL INCLUDE METHODS FOR CORRECTING FOR PERSPECTIVE AND FOR UNEVEN ILLUMINATION. FINALLY, ATTEMPTS WILL BE MADE AT MEASURING THE SIZE OF DROPLETS. THE SUCCESS OF THIS METHOD WILL DEPEND UPON THE NATURE OF THE VISUAL RECORDS WHICH WILL BE AVAILABLE. BECAUSE OF THE LIMITATIONS IN THE RESOLUTION OF THE DIGITAL IMAGE PROCESSING SYSTEM USED, AN OPTICAL MAGNIFICATION OF THE VISUAL RECORDS WILL BE MADE AND THIS MAGNIFICATION WILL BE LIMITED BY THE NATURE OF THE ORIGINAL IMAGE. IT IS ALSO ANTICIPATED THAT VISUAL RECORDS ARE MADE OF THE LARGE SCALE TESTS. THE VAN KARMAN INSTITUTE WILL INVESTIGATE THE POSSIBILITIES TO EXTRACT INFORMATION FROM THESE TRIALS. PRIOR TO THE TESTS, METHODS USED FOR THESE VISUALISATIONS WILL BE DISCUSSED. FINALLY IN THE TESTS P6, P10 AND P11, AN INFRARED CAMERA SHOULD BE USED TO OBTAIN THERMAL IMAGES OF THE TWO PHASE CLOUD OR JET. AN ANALYSIS PERFORMED WITH THE DIGITAL IMAGE PROCESSING SHOULD ALLOW FOR CORRECTION OF EMISSIVITY AND EMISSION ANGLE OF THE RADIATION. IT IS ANTICIPATED THAT INFORMATION ON THE HEAT TRANSFER WITHIN THE TWO-PHASE FLOW SHOULD BE DETERMINED.\",\n",
    "        \"TO DEVELOP AN ECONOMIC MODEL OF A GEOTHERMAL HOT DRY ROCK DEVELOPMENT. A cost model of hot dry rock (HDR) geothermal systems is being developed under contract to the United Kingdom Department of Energy and the Commission of the European Communities. During the first phase of this study, the basic structure of the model has been defined and modelling approaches which are appropriate to the level of knowledge of different areas of this system have been identified. The development of the cost model is now in progress and the main features of the modelling approach have been ascertained. An interim model has also been brought together in order to obtain some indications of sensitivities and so assist with the model process.Although the results are not definite at this stage, they do indicate important features of the technoeconomic aspects of the system. Thus the size and the spatial arrangement of the reservoir emerge as important issues, together with thermal gradient and depth.The ultimate objective of this study is to develop a full engineering cost model of electricity producing HDR systems which includes all surface and subsurface systems and components.Once developed the aims of the model are to:estimate capital and operating costs of HDR systems and their development over time;investigate the sensitivity of unit electricity costs to changes in parameters defining the HDR reservoir and also those defining the size and design of the power station;assist in the assessment of European HDR resources, as a function of cost and location.The cost of creating a reservoir, by drilling and stimulation, is likely to form a significant fraction of the total cost of constructing any proposed hot dry rock (HDR) geothermal energy system. The cost of these operations can be estimated using a cost model that has been developed to the assist the management of HDR geothermal energy research and development programmes.The model, which is formulated as a spreadsheet programme written on SMART software for an Olivetti M24 personal computer, can either be run as an integrated package or as individual components. Although preliminary versions of the cost model have been completed, development will continue.The final version of the drilling and stimulation cost model will be able to account for the affect of varying depth, geothermal gradient, geology (in terms of subsequent rates of penetration and bit life), borehole breakout, thickness of sedimentary cover, well design (including configuration angle of deviation and casing programme) and reservoir characteristics (such as volume, shape and number of stimulated zones).Other factors that will be taken into consideration include the type of logging and coring programmes selected and the general drilling market conditions which affect the cost of drilling supplies and services.DESCRIPTION: THIS STUDY BUILDS ON PREVIOUS WORK BY THE CONTRACTOR IN MODELLING THE VARIOUS ASPECTS OF AN HDR OPERATION, AND WILL BE DESIGNED TO PROVIDE RESULTS APPLICABLE IN ALL THE EUROPEAN MEMBER STATES. IT WILL ALLOW ESTIMATION OF THE COSTS OF ENERGY DERIVED FROM AN HDR RESERVOIR TOGETHER WITH AN ANALYSIS OF THE SENSITIVITY OF THOSE COSTS TO VARIOUS ASPECTS OF RESERVOIR CREATION, DEVELOPMENT AND OPERATION. THE MODEL WILL RUN ON A PC-COMPATIBLE MICROCOMPUTER.\",\n",
    "        \"The newly-developed code, CYCLOP, allows efficient calculation for optimisation studies. The CYCLOP project has brought together many areas of theoretical, experimental and numerical study. The main achievements highlighted by project partners are: - New modules for turbulence, agglomeration of particles and twophase flow treatment - New algorithms adapted to collocated approach and curvilinear grids - Experimental data on cyclone flow-field (by LDV) and performances in cold and hot conditions - and also some results on fluidized bed operating characteristics - A software package allowing calculation of cyclones and similar separators in 2D and 3D, with various graphic facilities will validated in 2D on different experimental data - Better overall knowledge of physics in cyclones.\",\n",
    "        \"AN IMPORTANT TASK IN THE DECOMMISSIONNING OF NUCLEAR INSTALLATIONS    IS THE PROOF OF THE VERY LOW RADIOACTIVITY LEVELS, ALLOWING FOR FREE RELEASE    OF THE GENERATED WASTE. THIS PROOF INVOLVESLONG MEASURING TIMES ON A GREAT      NUMBER  OF REPRESENTATIVE SAMPLES OUT OF IMPORTANT MASSES OF METAL STRUCTURES   AND CONCRETE, AND CONSIDERABLE RADIATION EXPOSURE OF THE MEASURING STAFF.       THE MAIN OBJECTIVE OF THE PRESENT RESEARCH IS THE DEVELOPMENT, CONSTRUCTION AND LARGE-SCALE TESTING OF A PROTOTYPE FOR AN AUTOMATIC MEASURING SYSTEM, APPROPRIATE TO TREAT IMPORTANT MASSES OF WASTE, WITH LOW-LEVEL ACTIVITIES AND DIFFERENT  NUCLIDE COMPOSITIONS AND SHAPES. IT IS EXPECTED TO MINIMISE HUMAN ERRORS BY AUTOMATIC OPERATION. THE MEASURING SYSTEM WILL BE DESIGNED AS A MOBILE UNIT, WITH A MODULAR STRUCTURE ALLOWING FOR A GENERAL PURPOSE APPLICATION TO LWR TYPICAL WASTE ARISING, AT DIFFERENT DECOMMISSIONING SITES. THE PRACTICAL TESTING WILL BE DONE A TOTAL MASS OF 1000 MG IN THE FRAMEWORK OF THE KKN DECOMMISSIONING. THE STUDY WILL BE COMPLETED BY A CONCLUSIVE ASSESSMENT OF THE MERITS OF THE DEVELOPED MEASURING SYSTEM FOR LARGE-SCALE OPERATION. The dismantling of nuclear facilities requires proof that the radioactivity levels of materials to be released from restricted areas remain below low limiting values. Up till now, decisive measurements have been almost impossible on parts and material with complex geometries. In order to keep measurement costs low, a device has been developed which uses a fast automatic procedure to examine large amounts of dismantled and potentially contaminating components. The device measures the gross gamma-radiation which has a higher penetrating capacity into the material than beta radiation. The measuring tunnel is 1.2 m broad and 1.2 m high. Parts to be measured can be up to 4 m long and weigh 1 tonne. Analysis of measurements has shown that the specified minimal detectable activity level of 1000 Bq cobalt-60 can be achieved, even with steel shielding of 2 cm thickness.B.1.CONCEPTUAL STUDIES FOR THE DEFINITION OF THE REQUIREMENTS FOR A MEASURING SYSTEM,INCLUDING ASSESSMENT OF EXISTING LOW-LEVEL ACTIVITY MEASURING TECHNIQUES, DEFINITION OF THE TYPES OF WASTE TO BE TREATED, AND HEALTH PHYSICS PROTECTION CONSIDERATIONS. B.2. PREPARATION OF A DESIGN OF THE COMPLETE MEASURING SYSTEM,INCLUDING DETECTORS,CONTROL AND TRANSPORT SYSTEM, GENERAL PURPOSE SOFTWARE FOR MEASURING DATA PROCESSING, FOLLOWED BY A CALL FOR TENDERS AND THE CHOICE OF MANUFACTURES. B.3. PREPARATION OF A LICENSING DOSSIER FOR EXPERIMENTAL OPERATION OF THE MEASURING SYSTEM PROGRAMME. IN THE FRAMEWORK OF THE DECOMMISSIONING OF KKN. B.4. EXECUTION OF A LARGE-SCALE TEST PROGRAMME. B.5.CONCLUSIVE ASSESSMENT OF THE APPROPRIATENESS OF THE DEVELOPED MEASURING SYSTEM, CONSIDERING TECHNICAL AND ECONOMIC ASPECTS.\",\n",
    "        \"Work has been directed towards the provision of key components of real time computerised support systems, embodied in software packages to be made generally available for use in European Community countries. These software packages include numerical models suitable for the simulation of atmospheric transport, dispersal and deposition of a release of radioactive material over local (out to a few tens of kilometres at most), mesoscale (out to 100 to 200 kilometres) and long range distances (over the whole of Europe). To aid in accidents where there are large uncertainties about the source term, packages have been developed addressing the deduction of estimates of the quantities of radionuclides released by combining measurements and model simulations and optimising the agreement between them. Finally, as a tool to aid in the assessment of doses and the efficacy of possible countermeasures, a special package has been produced for dose assessment taking into account different exposure pathways.\"]\n",
    "\n",
    "for elem in list :\n",
    "    print(compute_climate_score(elem))"
   ]
  },
  {
   "cell_type": "code",
   "execution_count": null,
   "id": "04b9209a",
   "metadata": {},
   "outputs": [],
   "source": []
  }
 ],
 "metadata": {
  "kernelspec": {
   "display_name": "rain",
   "language": "python",
   "name": "python3"
  },
  "language_info": {
   "codemirror_mode": {
    "name": "ipython",
    "version": 3
   },
   "file_extension": ".py",
   "mimetype": "text/x-python",
   "name": "python",
   "nbconvert_exporter": "python",
   "pygments_lexer": "ipython3",
   "version": "3.12.3"
  }
 },
 "nbformat": 4,
 "nbformat_minor": 5
}
