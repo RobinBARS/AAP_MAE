{
 "cells": [
  {
   "cell_type": "code",
   "execution_count": 4,
   "id": "0fdb8dfb",
   "metadata": {},
   "outputs": [],
   "source": [
    "import pandas as pd\n",
    "import xml.etree.ElementTree as ET\n",
    "from tqdm import tqdm\n",
    "import matplotlib.pyplot as plt\n",
    "import os"
   ]
  },
  {
   "cell_type": "code",
   "execution_count": 5,
   "id": "6d457d16",
   "metadata": {},
   "outputs": [],
   "source": [
    "def extract_elements_to_dict(element):\n",
    "    data = {}\n",
    "    for child in element:\n",
    "        tag = child.tag\n",
    "        if (tag!=\"relations\" and tag in [\"id\",\"title\",\"teaser\",\"body\",\"keywords\",\"contentCreationDate\",\"language\"]):\n",
    "            text = child.text.strip() if child.text else ''\n",
    "            if len(child) > 0:\n",
    "                def get_all_text(el):\n",
    "                    texts = []\n",
    "                    if el.text and el.text.strip():\n",
    "                        texts.append(el.text.strip())\n",
    "                    for c in el:\n",
    "                        texts.append(get_all_text(c))\n",
    "                    if el.tail and el.tail.strip():\n",
    "                        texts.append(el.tail.strip())\n",
    "                    return ' '.join(texts)\n",
    "                \n",
    "                text = get_all_text(child).strip()\n",
    "\n",
    "            data[tag] = text\n",
    "    return data"
   ]
  },
  {
   "cell_type": "code",
   "execution_count": 6,
   "id": "3b87b127",
   "metadata": {},
   "outputs": [
    {
     "name": "stdout",
     "output_type": "stream",
     "text": [
      "Digital_Economy\n"
     ]
    },
    {
     "name": "stderr",
     "output_type": "stream",
     "text": [
      "100%|██████████| 4659/4659 [00:13<00:00, 347.22it/s] \n"
     ]
    },
    {
     "name": "stdout",
     "output_type": "stream",
     "text": [
      "Energy\n"
     ]
    },
    {
     "name": "stderr",
     "output_type": "stream",
     "text": [
      "100%|██████████| 3323/3323 [00:08<00:00, 394.04it/s] \n"
     ]
    },
    {
     "name": "stdout",
     "output_type": "stream",
     "text": [
      "Environment\n"
     ]
    },
    {
     "name": "stderr",
     "output_type": "stream",
     "text": [
      "100%|██████████| 5320/5320 [00:15<00:00, 345.77it/s]\n"
     ]
    },
    {
     "name": "stdout",
     "output_type": "stream",
     "text": [
      "Food_Agriculture\n"
     ]
    },
    {
     "name": "stderr",
     "output_type": "stream",
     "text": [
      "100%|██████████| 2816/2816 [00:07<00:00, 357.60it/s]\n"
     ]
    },
    {
     "name": "stdout",
     "output_type": "stream",
     "text": [
      "Fundammental\n"
     ]
    },
    {
     "name": "stderr",
     "output_type": "stream",
     "text": [
      "100%|██████████| 3389/3389 [00:07<00:00, 431.59it/s] \n"
     ]
    },
    {
     "name": "stdout",
     "output_type": "stream",
     "text": [
      "Health\n"
     ]
    },
    {
     "name": "stderr",
     "output_type": "stream",
     "text": [
      "100%|██████████| 6852/6852 [00:13<00:00, 513.52it/s] \n"
     ]
    },
    {
     "name": "stdout",
     "output_type": "stream",
     "text": [
      "Industrie\n"
     ]
    },
    {
     "name": "stderr",
     "output_type": "stream",
     "text": [
      "100%|██████████| 3693/3693 [00:10<00:00, 358.11it/s]\n"
     ]
    },
    {
     "name": "stdout",
     "output_type": "stream",
     "text": [
      "Society\n"
     ]
    },
    {
     "name": "stderr",
     "output_type": "stream",
     "text": [
      "100%|██████████| 5080/5080 [00:12<00:00, 397.80it/s] \n"
     ]
    },
    {
     "name": "stdout",
     "output_type": "stream",
     "text": [
      "Space\n"
     ]
    },
    {
     "name": "stderr",
     "output_type": "stream",
     "text": [
      "100%|██████████| 960/960 [00:02<00:00, 341.68it/s]\n"
     ]
    },
    {
     "name": "stdout",
     "output_type": "stream",
     "text": [
      "Transport\n"
     ]
    },
    {
     "name": "stderr",
     "output_type": "stream",
     "text": [
      "100%|██████████| 1900/1900 [00:05<00:00, 371.35it/s]"
     ]
    },
    {
     "name": "stdout",
     "output_type": "stream",
     "text": [
      "C:/Users/barsro/Downloads/Data_projets_EU/Transport\\xml.zip\n"
     ]
    },
    {
     "name": "stderr",
     "output_type": "stream",
     "text": [
      "\n"
     ]
    }
   ],
   "source": [
    "root_path = 'C:/Users/barsro/Downloads/Data_projets_EU/'\n",
    "dirs = [name for name in os.listdir(root_path) if os.path.isdir(os.path.join(root_path, name))]\n",
    "\n",
    "rows = []\n",
    "for dir in dirs :\n",
    "    print(dir)\n",
    "    folder_path = os.path.join(root_path,dir)\n",
    "    files = [f for f in os.listdir(folder_path) if os.path.isfile(os.path.join(folder_path, f))]\n",
    "    for file in tqdm(files):\n",
    "        try :\n",
    "            tree = ET.parse(os.path.join(folder_path,file))\n",
    "            root = tree.getroot()\n",
    "            result = extract_elements_to_dict(root)\n",
    "            result[\"Domain\"]=dir\n",
    "            rows.append(result)\n",
    "        except :\n",
    "            print(os.path.join(folder_path,file))"
   ]
  },
  {
   "cell_type": "code",
   "execution_count": 7,
   "id": "fb0cc1a3",
   "metadata": {},
   "outputs": [
    {
     "data": {
      "text/html": [
       "<div>\n",
       "<style scoped>\n",
       "    .dataframe tbody tr th:only-of-type {\n",
       "        vertical-align: middle;\n",
       "    }\n",
       "\n",
       "    .dataframe tbody tr th {\n",
       "        vertical-align: top;\n",
       "    }\n",
       "\n",
       "    .dataframe thead th {\n",
       "        text-align: right;\n",
       "    }\n",
       "</style>\n",
       "<table border=\"1\" class=\"dataframe\">\n",
       "  <thead>\n",
       "    <tr style=\"text-align: right;\">\n",
       "      <th></th>\n",
       "      <th>language</th>\n",
       "      <th>id</th>\n",
       "      <th>title</th>\n",
       "      <th>teaser</th>\n",
       "      <th>body</th>\n",
       "      <th>keywords</th>\n",
       "      <th>contentCreationDate</th>\n",
       "      <th>Domain</th>\n",
       "      <th>year</th>\n",
       "    </tr>\n",
       "  </thead>\n",
       "  <tbody>\n",
       "    <tr>\n",
       "      <th>0</th>\n",
       "      <td>en</td>\n",
       "      <td>182009-smart-grid-redirects-computing-power-to...</td>\n",
       "      <td>Smart grid redirects computing power to heat h...</td>\n",
       "      <td>EU-funded researchers have developed a decentr...</td>\n",
       "      <td>The EU-funded project can benefit end users by...</td>\n",
       "      <td>EeHPC, high performance computing, HPC, Qarnot...</td>\n",
       "      <td>2016-05-05 15:53:11</td>\n",
       "      <td>Digital_Economy</td>\n",
       "      <td>2016</td>\n",
       "    </tr>\n",
       "    <tr>\n",
       "      <th>1</th>\n",
       "      <td>en</td>\n",
       "      <td>182988-spanish-sme-aims-for-top-spot-in-virtua...</td>\n",
       "      <td>Spanish SME aims for top spot in virtual fitti...</td>\n",
       "      <td>Online clothing retailers will soon be able to...</td>\n",
       "      <td>With eCommerce sales set to increase by 18.4 %...</td>\n",
       "      <td>Smart textiles, safety shoes, biometric sensors</td>\n",
       "      <td>2016-07-12 17:56:55</td>\n",
       "      <td>Digital_Economy</td>\n",
       "      <td>2016</td>\n",
       "    </tr>\n",
       "    <tr>\n",
       "      <th>2</th>\n",
       "      <td>en</td>\n",
       "      <td>188522-robotic-solutions-to-give-dementia-pati...</td>\n",
       "      <td>Robotic solutions to give dementia patients be...</td>\n",
       "      <td>The EU-funded MARIO project is developing a co...</td>\n",
       "      <td>In the absence of a cure, solutions such as MA...</td>\n",
       "      <td>MARIO, Kompaï-2 robot, dementia, DOMEO</td>\n",
       "      <td>2016-09-09 15:16:41</td>\n",
       "      <td>Digital_Economy</td>\n",
       "      <td>2016</td>\n",
       "    </tr>\n",
       "    <tr>\n",
       "      <th>3</th>\n",
       "      <td>en</td>\n",
       "      <td>188757-wisers-free-tools-will-help-large-and-s...</td>\n",
       "      <td>WISER’s free tools will help large and small e...</td>\n",
       "      <td>Companies and governments are bombarded by bil...</td>\n",
       "      <td>The vast majority of SMEs have to sacrifice li...</td>\n",
       "      <td>WISER, cyber security, threat, trojan horse, S...</td>\n",
       "      <td>2016-10-28 13:13:54</td>\n",
       "      <td>Digital_Economy</td>\n",
       "      <td>2016</td>\n",
       "    </tr>\n",
       "    <tr>\n",
       "      <th>4</th>\n",
       "      <td>en</td>\n",
       "      <td>190722-pcp-and-ppi-a-public-boost-to-societal-...</td>\n",
       "      <td>PCP and PPI: a public boost to societal challe...</td>\n",
       "      <td>Rising public needs and interests require not ...</td>\n",
       "      <td>In the EU, two mechanisms are increasingly use...</td>\n",
       "      <td>PCP, PPI, R&amp;D, innovation, intelligent transpo...</td>\n",
       "      <td>2016-12-09 16:28:14</td>\n",
       "      <td>Digital_Economy</td>\n",
       "      <td>2016</td>\n",
       "    </tr>\n",
       "  </tbody>\n",
       "</table>\n",
       "</div>"
      ],
      "text/plain": [
       "  language                                                 id  \\\n",
       "0       en  182009-smart-grid-redirects-computing-power-to...   \n",
       "1       en  182988-spanish-sme-aims-for-top-spot-in-virtua...   \n",
       "2       en  188522-robotic-solutions-to-give-dementia-pati...   \n",
       "3       en  188757-wisers-free-tools-will-help-large-and-s...   \n",
       "4       en  190722-pcp-and-ppi-a-public-boost-to-societal-...   \n",
       "\n",
       "                                               title  \\\n",
       "0  Smart grid redirects computing power to heat h...   \n",
       "1  Spanish SME aims for top spot in virtual fitti...   \n",
       "2  Robotic solutions to give dementia patients be...   \n",
       "3  WISER’s free tools will help large and small e...   \n",
       "4  PCP and PPI: a public boost to societal challe...   \n",
       "\n",
       "                                              teaser  \\\n",
       "0  EU-funded researchers have developed a decentr...   \n",
       "1  Online clothing retailers will soon be able to...   \n",
       "2  The EU-funded MARIO project is developing a co...   \n",
       "3  Companies and governments are bombarded by bil...   \n",
       "4  Rising public needs and interests require not ...   \n",
       "\n",
       "                                                body  \\\n",
       "0  The EU-funded project can benefit end users by...   \n",
       "1  With eCommerce sales set to increase by 18.4 %...   \n",
       "2  In the absence of a cure, solutions such as MA...   \n",
       "3  The vast majority of SMEs have to sacrifice li...   \n",
       "4  In the EU, two mechanisms are increasingly use...   \n",
       "\n",
       "                                            keywords  contentCreationDate  \\\n",
       "0  EeHPC, high performance computing, HPC, Qarnot...  2016-05-05 15:53:11   \n",
       "1    Smart textiles, safety shoes, biometric sensors  2016-07-12 17:56:55   \n",
       "2             MARIO, Kompaï-2 robot, dementia, DOMEO  2016-09-09 15:16:41   \n",
       "3  WISER, cyber security, threat, trojan horse, S...  2016-10-28 13:13:54   \n",
       "4  PCP, PPI, R&D, innovation, intelligent transpo...  2016-12-09 16:28:14   \n",
       "\n",
       "            Domain  year  \n",
       "0  Digital_Economy  2016  \n",
       "1  Digital_Economy  2016  \n",
       "2  Digital_Economy  2016  \n",
       "3  Digital_Economy  2016  \n",
       "4  Digital_Economy  2016  "
      ]
     },
     "execution_count": 7,
     "metadata": {},
     "output_type": "execute_result"
    }
   ],
   "source": [
    "df = pd.DataFrame(rows)\n",
    "df['year'] = pd.to_datetime(df['contentCreationDate']).dt.year\n",
    "df.head()"
   ]
  },
  {
   "cell_type": "code",
   "execution_count": 8,
   "id": "9bfa05d2",
   "metadata": {},
   "outputs": [],
   "source": [
    "df.to_csv('./cordis_v1.csv')"
   ]
  },
  {
   "cell_type": "code",
   "execution_count": null,
   "id": "c0382ced",
   "metadata": {},
   "outputs": [],
   "source": []
  }
 ],
 "metadata": {
  "kernelspec": {
   "display_name": "rain",
   "language": "python",
   "name": "python3"
  },
  "language_info": {
   "codemirror_mode": {
    "name": "ipython",
    "version": 3
   },
   "file_extension": ".py",
   "mimetype": "text/x-python",
   "name": "python",
   "nbconvert_exporter": "python",
   "pygments_lexer": "ipython3",
   "version": "3.12.3"
  }
 },
 "nbformat": 4,
 "nbformat_minor": 5
}
